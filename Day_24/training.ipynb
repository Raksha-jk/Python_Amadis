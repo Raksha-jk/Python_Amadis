{
 "cells": [
  {
   "cell_type": "code",
   "execution_count": 5,
   "id": "52d17f1a",
   "metadata": {},
   "outputs": [
    {
     "name": "stdout",
     "output_type": "stream",
     "text": [
      "True\n",
      "31\n",
      "T\n",
      "h\n",
      "e\n",
      " \n",
      "b\n",
      "e\n",
      "s\n",
      "t\n",
      " \n",
      "t\n",
      "h\n",
      "i\n",
      "n\n",
      "g\n",
      " \n",
      "i\n",
      "n\n",
      " \n",
      "l\n",
      "i\n",
      "f\n",
      "e\n",
      " \n",
      "a\n",
      "r\n",
      "e\n",
      " \n",
      "f\n",
      "r\n",
      "e\n",
      "e\n"
     ]
    }
   ],
   "source": [
    "x=\"The best thing in life are free\"\n",
    "print(\"free\" in x)\n",
    "print(len(x))\n",
    "for i in x:\n",
    "    print(i)\n"
   ]
  },
  {
   "cell_type": "code",
   "execution_count": 24,
   "id": "4c69571d",
   "metadata": {},
   "outputs": [
    {
     "name": "stdout",
     "output_type": "stream",
     "text": [
      "he \n",
      "he best, thing in life are free \n",
      " The \n"
     ]
    }
   ],
   "source": [
    "#Slicing\n",
    "x=\" The best, thing in life are free \"\n",
    "print(x[2:5])\n",
    "print(x[2:])  # From index 2 to the end\n",
    "print(x[:5])  # From the start to index 5"
   ]
  },
  {
   "cell_type": "code",
   "execution_count": 27,
   "id": "92642d8f",
   "metadata": {},
   "outputs": [
    {
     "name": "stdout",
     "output_type": "stream",
     "text": [
      " THE BEST, THING IN LIFE ARE FREE \n",
      " the best, thing in life are free \n",
      "raksha\n",
      " The best, thing in life are expensive \n",
      "[' Th', ' b', 'st, thing in lif', ' ar', ' fr', '', ' ']\n"
     ]
    }
   ],
   "source": [
    "print(x.upper())\n",
    "print(x.lower())\n",
    "y=\"    raksha\"\n",
    "print(y.strip())\n",
    "print(x.replace(\"free\", \"expensive\"))\n",
    "print(x.split(\"e\"))"
   ]
  },
  {
   "cell_type": "code",
   "execution_count": 28,
   "id": "0ca68e67",
   "metadata": {},
   "outputs": [
    {
     "name": "stdout",
     "output_type": "stream",
     "text": [
      "My name is John, I am 36\n",
      "My name is John, I am 36\n",
      "We are the so-called \"Vikings\" from the north.\n"
     ]
    }
   ],
   "source": [
    "age = 36\n",
    "txt = f\"My name is John, I am {age}\"\n",
    "print(f\"My name is John, I am {age}\")\n",
    "print(txt)\n",
    "age = 36\n",
    "txt = \"We are the so-called \\\"Vikings\\\" from the north.\"\n",
    "print(txt)"
   ]
  },
  {
   "cell_type": "code",
   "execution_count": 19,
   "id": "8874ecf1",
   "metadata": {},
   "outputs": [
    {
     "name": "stdout",
     "output_type": "stream",
     "text": [
      "<class 'list'>\n"
     ]
    }
   ],
   "source": [
    "mylist = [\"apple\", \"banana\", \"cherry\"]\n",
    "print(type(mylist))"
   ]
  },
  {
   "cell_type": "code",
   "execution_count": 2,
   "id": "403e5544",
   "metadata": {},
   "outputs": [
    {
     "name": "stdout",
     "output_type": "stream",
     "text": [
      "97\n",
      "sverki nymgi\n"
     ]
    }
   ],
   "source": [
    "word=\"orange juice\"\n",
    "shift=4\n",
    "new_word = \"\"\n",
    "print(ord(\"a\"))\n",
    "for i in word:\n",
    "    if i==\" \":\n",
    "        new_word += \" \"\n",
    "    else:\n",
    "        new_word+= chr(ord(i) + shift)\n",
    "print(new_word)"
   ]
  },
  {
   "cell_type": "code",
   "execution_count": 34,
   "id": "e46ae6e4",
   "metadata": {},
   "outputs": [
    {
     "name": "stdout",
     "output_type": "stream",
     "text": [
      "['orange', 'kiwi', 'cherry', 'apple']\n"
     ]
    }
   ],
   "source": [
    "list = [\"apple\", \"banana\", \"cherry\"]\n",
    "list.append(\"orange\")\n",
    "list.insert(1, \"kiwi\")\n",
    "list.remove(\"banana\")\n",
    "list.sort()\n",
    "list.reverse()\n",
    "print(list)"
   ]
  },
  {
   "cell_type": "code",
   "execution_count": 35,
   "id": "b88c6c6d",
   "metadata": {},
   "outputs": [
    {
     "name": "stdout",
     "output_type": "stream",
     "text": [
      "['orange', 'kiwi', 'cherry', 'apple', ('mango', 'pineapple', 'papaya')]\n"
     ]
    }
   ],
   "source": [
    "tropical = (\"mango\", \"pineapple\", \"papaya\")\n",
    "list.append(tropical)\n",
    "print(list)"
   ]
  }
 ],
 "metadata": {
  "kernelspec": {
   "display_name": "Python 3",
   "language": "python",
   "name": "python3"
  },
  "language_info": {
   "codemirror_mode": {
    "name": "ipython",
    "version": 3
   },
   "file_extension": ".py",
   "mimetype": "text/x-python",
   "name": "python",
   "nbconvert_exporter": "python",
   "pygments_lexer": "ipython3",
   "version": "3.13.5"
  }
 },
 "nbformat": 4,
 "nbformat_minor": 5
}
