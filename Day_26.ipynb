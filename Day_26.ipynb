{
 "cells": [
  {
   "cell_type": "code",
   "execution_count": 4,
   "id": "e951f04a",
   "metadata": {},
   "outputs": [
    {
     "name": "stdout",
     "output_type": "stream",
     "text": [
      "['Name', 'Age']\n",
      "['Alice', '32']\n",
      "['Bob', '65']\n",
      "['Cam', '26']\n",
      "['Daren', '45']\n"
     ]
    }
   ],
   "source": [
    "#reading\n",
    "import csv\n",
    "with open('sample.csv', 'r') as file:\n",
    "    reader = csv.reader(file)\n",
    "    for row in reader:\n",
    "        print(row)"
   ]
  },
  {
   "cell_type": "code",
   "execution_count": 6,
   "id": "3aa37639",
   "metadata": {},
   "outputs": [
    {
     "name": "stdout",
     "output_type": "stream",
     "text": [
      "Alice\n",
      "Bob\n",
      "Cam\n",
      "Daren\n"
     ]
    }
   ],
   "source": [
    "with open('sample.csv', 'r') as file:\n",
    "    reader = csv.DictReader(file)\n",
    "    for row in reader:\n",
    "        print(row['Name'])"
   ]
  },
  {
   "cell_type": "code",
   "execution_count": 7,
   "id": "007d38ae",
   "metadata": {},
   "outputs": [],
   "source": [
    "data = [\n",
    "    ['Name', 'Age', 'Grade'],['Alice', 20, 'A'],['Bob', 21, 'B']\n",
    "]\n",
    "with open('students.csv', 'w', newline='') as file:\n",
    "    writer = csv.writer(file)\n",
    "    writer.writerows(data)"
   ]
  },
  {
   "cell_type": "code",
   "execution_count": 10,
   "id": "b4e532b3",
   "metadata": {},
   "outputs": [],
   "source": [
    "data = [\n",
    "    {'Name': 'Alice', 'Age': 20, 'Grade': 'A'},\n",
    "    {'Name': 'Bob', 'Age': 21, 'Grade': 'B'}\n",
    "]\n",
    "with open('students.csv', 'w', newline='') as file:\n",
    "    fieldnames = ['Name', 'Age', 'Grade']\n",
    "    writer = csv.DictWriter(file, fieldnames=fieldnames)\n",
    "    writer.writeheader()\n",
    "    writer.writerows(data)\n"
   ]
  },
  {
   "cell_type": "code",
   "execution_count": null,
   "id": "171768d7",
   "metadata": {},
   "outputs": [],
   "source": [
    "with open('students.csv', 'a', newline='') as file:\n",
    "    writer = csv.writer(file)\n",
    "    writer.writerow(['David', 22, 'B'])"
   ]
  },
  {
   "cell_type": "code",
   "execution_count": 9,
   "id": "e64a6d23",
   "metadata": {},
   "outputs": [],
   "source": [
    "with open('students.csv', 'w', newline='') as file:\n",
    "    pass "
   ]
  },
  {
   "cell_type": "code",
   "execution_count": null,
   "id": "f1e49d5d",
   "metadata": {},
   "outputs": [],
   "source": [
    "fieldnames = ['Name', 'Age', 'Grade']\n",
    "with open('students.csv', 'w', newline='') as file:\n",
    "    writer = csv.DictWriter(file, fieldnames=fieldnames)\n",
    "    writer.writeheader()"
   ]
  },
  {
   "cell_type": "code",
   "execution_count": 11,
   "id": "bae65869",
   "metadata": {},
   "outputs": [
    {
     "name": "stdout",
     "output_type": "stream",
     "text": [
      "<class '__main__.Car'>\n",
      "<class '__main__.Car'>\n"
     ]
    }
   ],
   "source": [
    "class Car:\n",
    "    pass  \n",
    "car1 = Car()\n",
    "car2 = Car()\n",
    "\n",
    "print(type(car1))\n",
    "print(type(car2))"
   ]
  },
  {
   "cell_type": "code",
   "execution_count": 14,
   "id": "f28e4c55",
   "metadata": {},
   "outputs": [
    {
     "name": "stdout",
     "output_type": "stream",
     "text": [
      "Toyota Red\n",
      "Honda Blue\n"
     ]
    }
   ],
   "source": [
    "class Car:\n",
    "    def __init__(self, brand, color):\n",
    "        self.brand = brand   # Instance variable\n",
    "        self.color = color   # Instance variable\n",
    "\n",
    "car1 = Car(\"Toyota\", \"Red\")\n",
    "car2 = Car(\"Honda\", \"Blue\")\n",
    "\n",
    "print(car1.brand, car1.color)\n",
    "print(car2.brand, car2.color)\n"
   ]
  },
  {
   "cell_type": "code",
   "execution_count": 16,
   "id": "e217bfd0",
   "metadata": {},
   "outputs": [
    {
     "name": "stdout",
     "output_type": "stream",
     "text": [
      "This car is a Red Toyota\n",
      "This car is a Blue Honda\n"
     ]
    }
   ],
   "source": [
    "class Car:\n",
    "    def __init__(self, brand, color):\n",
    "        self.brand = brand  \n",
    "        self.color = color\n",
    "\n",
    "    def show_info(self):\n",
    "        print(f\"This car is a {self.color} {self.brand}\")\n",
    "\n",
    "# Create objects\n",
    "car1 = Car(\"Toyota\", \"Red\")\n",
    "car2 = Car(\"Honda\", \"Blue\")\n",
    "\n",
    "car1.show_info() \n",
    "car2.show_info()  \n"
   ]
  },
  {
   "cell_type": "code",
   "execution_count": 17,
   "id": "fc9dd35d",
   "metadata": {},
   "outputs": [
    {
     "name": "stdout",
     "output_type": "stream",
     "text": [
      "Name: Raksha, Marks: 85\n",
      "Raksha has Passed ✅\n",
      "Name: Arun, Marks: 35\n",
      "Arun has Failed ❌\n"
     ]
    }
   ],
   "source": [
    "class Student:\n",
    "    def __init__(self, name, marks):\n",
    "        self.name = name\n",
    "        self.marks = marks\n",
    "    \n",
    "    def display(self):\n",
    "        print(f\"Name: {self.name}, Marks: {self.marks}\")\n",
    "    \n",
    "    def pass_fail(self):\n",
    "        if self.marks >= 40:\n",
    "            print(f\"{self.name} has Passed ✅\")\n",
    "        else:\n",
    "            print(f\"{self.name} has Failed ❌\")\n",
    "\n",
    "# Create object\n",
    "s1 = Student(\"Raksha\", 85)\n",
    "s2 = Student(\"Arun\", 35)\n",
    "\n",
    "# Call methods\n",
    "s1.display()\n",
    "s1.pass_fail()\n",
    "\n",
    "s2.display()\n",
    "s2.pass_fail()\n"
   ]
  },
  {
   "cell_type": "code",
   "execution_count": 19,
   "id": "34d9fe23",
   "metadata": {},
   "outputs": [],
   "source": [
    "class BankAccount:\n",
    "    def __init__ (self,name,balance):\n",
    "        self.name=name\n",
    "        self.balance=balance\n",
    "    def deposit(self,amount):\n",
    "        self.balance += amount\n",
    "        print(f\"Deposited {amount}\")\n",
    "    def withdraw(self, amount):\n",
    "        if amount <= self.balance:\n",
    "            self.balance -= amount\n",
    "            print(f\"Withdrew {amount}\")\n",
    "        else:\n",
    "            print(\"Insufficient balance\")\n",
    "    def display_balance(self):\n",
    "        print(f\"Balance: {self.balance}\")"
   ]
  },
  {
   "cell_type": "code",
   "execution_count": 20,
   "id": "9c85b7ea",
   "metadata": {},
   "outputs": [
    {
     "name": "stdout",
     "output_type": "stream",
     "text": [
      "Balance: 5000\n",
      "Deposited 2000\n",
      "Withdrew 1000\n",
      "Insufficient balance\n",
      "Balance: 6000\n"
     ]
    }
   ],
   "source": [
    "acc1 = BankAccount(\"Raksha\", 5000)\n",
    "acc1.display_balance()\n",
    "acc1.deposit(2000)\n",
    "acc1.withdraw(1000)\n",
    "acc1.withdraw(7000)  # More than available\n",
    "acc1.display_balance()"
   ]
  },
  {
   "cell_type": "code",
   "execution_count": 21,
   "id": "eeb2c1a8",
   "metadata": {},
   "outputs": [],
   "source": [
    "class Book:\n",
    "    library_name=\"City Library\"\n",
    "    def __init__(self, title, author):\n",
    "        self.title = title\n",
    "        self.author = author\n",
    "    def display_info(self):\n",
    "        print(f\"Title: {self.title}, Author: {self.author}, Library: {self.library_name}\")"
   ]
  },
  {
   "cell_type": "code",
   "execution_count": 22,
   "id": "4e2aadba",
   "metadata": {},
   "outputs": [
    {
     "name": "stdout",
     "output_type": "stream",
     "text": [
      "Title: Harry Potter, Author: J.K. Rowling, Library: City Library\n",
      "Title: Python Programming, Author: Guido van Rossum, Library: City Library\n",
      "Title: Harry Potter, Author: J.K. Rowling, Library: National Library\n",
      "Title: Python Programming, Author: Guido van Rossum, Library: National Library\n"
     ]
    }
   ],
   "source": [
    "b1 = Book(\"Harry Potter\", \"J.K. Rowling\")\n",
    "b2 = Book(\"Python Programming\", \"Guido van Rossum\")\n",
    "\n",
    "b1.display_info()\n",
    "b2.display_info()\n",
    "\n",
    "# Change the library name\n",
    "Book.library_name = \"National Library\"\n",
    "\n",
    "b1.display_info()\n",
    "b2.display_info()\n"
   ]
  }
 ],
 "metadata": {
  "kernelspec": {
   "display_name": "Python 3",
   "language": "python",
   "name": "python3"
  },
  "language_info": {
   "codemirror_mode": {
    "name": "ipython",
    "version": 3
   },
   "file_extension": ".py",
   "mimetype": "text/x-python",
   "name": "python",
   "nbconvert_exporter": "python",
   "pygments_lexer": "ipython3",
   "version": "3.13.5"
  }
 },
 "nbformat": 4,
 "nbformat_minor": 5
}
